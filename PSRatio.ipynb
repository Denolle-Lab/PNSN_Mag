{
 "cells": [
  {
   "cell_type": "code",
   "execution_count": 54,
   "metadata": {},
   "outputs": [
    {
     "name": "stdout",
     "output_type": "stream",
     "text": [
      "Requirement already satisfied: obspy in c:\\users\\wolfn\\anaconda3\\envs\\pnsn\\lib\\site-packages (1.4.0)\n",
      "Requirement already satisfied: wget in c:\\users\\wolfn\\anaconda3\\envs\\pnsn\\lib\\site-packages (3.2)\n",
      "Requirement already satisfied: numpy>=1.20 in c:\\users\\wolfn\\anaconda3\\envs\\pnsn\\lib\\site-packages (from obspy) (1.24.2)\n",
      "Requirement already satisfied: setuptools in c:\\users\\wolfn\\anaconda3\\envs\\pnsn\\lib\\site-packages (from obspy) (67.1.0)\n",
      "Requirement already satisfied: sqlalchemy in c:\\users\\wolfn\\anaconda3\\envs\\pnsn\\lib\\site-packages (from obspy) (1.4.46)\n",
      "Requirement already satisfied: scipy>=1.7 in c:\\users\\wolfn\\anaconda3\\envs\\pnsn\\lib\\site-packages (from obspy) (1.10.0)\n",
      "Requirement already satisfied: lxml in c:\\users\\wolfn\\anaconda3\\envs\\pnsn\\lib\\site-packages (from obspy) (4.9.2)\n",
      "Requirement already satisfied: matplotlib>=3.3 in c:\\users\\wolfn\\anaconda3\\envs\\pnsn\\lib\\site-packages (from obspy) (3.6.3)\n",
      "Requirement already satisfied: decorator in c:\\users\\wolfn\\anaconda3\\envs\\pnsn\\lib\\site-packages (from obspy) (5.1.1)\n",
      "Requirement already satisfied: requests in c:\\users\\wolfn\\anaconda3\\envs\\pnsn\\lib\\site-packages (from obspy) (2.28.2)\n",
      "Requirement already satisfied: python-dateutil>=2.7 in c:\\users\\wolfn\\anaconda3\\envs\\pnsn\\lib\\site-packages (from matplotlib>=3.3->obspy) (2.8.2)\n",
      "Requirement already satisfied: pyparsing>=2.2.1 in c:\\users\\wolfn\\anaconda3\\envs\\pnsn\\lib\\site-packages (from matplotlib>=3.3->obspy) (3.0.9)\n",
      "Requirement already satisfied: kiwisolver>=1.0.1 in c:\\users\\wolfn\\anaconda3\\envs\\pnsn\\lib\\site-packages (from matplotlib>=3.3->obspy) (1.4.4)\n",
      "Requirement already satisfied: contourpy>=1.0.1 in c:\\users\\wolfn\\anaconda3\\envs\\pnsn\\lib\\site-packages (from matplotlib>=3.3->obspy) (1.0.7)\n",
      "Requirement already satisfied: pillow>=6.2.0 in c:\\users\\wolfn\\anaconda3\\envs\\pnsn\\lib\\site-packages (from matplotlib>=3.3->obspy) (9.4.0)\n",
      "Requirement already satisfied: cycler>=0.10 in c:\\users\\wolfn\\anaconda3\\envs\\pnsn\\lib\\site-packages (from matplotlib>=3.3->obspy) (0.11.0)\n",
      "Requirement already satisfied: fonttools>=4.22.0 in c:\\users\\wolfn\\anaconda3\\envs\\pnsn\\lib\\site-packages (from matplotlib>=3.3->obspy) (4.38.0)\n",
      "Requirement already satisfied: packaging>=20.0 in c:\\users\\wolfn\\anaconda3\\envs\\pnsn\\lib\\site-packages (from matplotlib>=3.3->obspy) (23.0)\n",
      "Requirement already satisfied: six>=1.5 in c:\\users\\wolfn\\anaconda3\\envs\\pnsn\\lib\\site-packages (from python-dateutil>=2.7->matplotlib>=3.3->obspy) (1.16.0)\n",
      "Requirement already satisfied: charset-normalizer<4,>=2 in c:\\users\\wolfn\\anaconda3\\envs\\pnsn\\lib\\site-packages (from requests->obspy) (2.1.1)\n",
      "Requirement already satisfied: idna<4,>=2.5 in c:\\users\\wolfn\\anaconda3\\envs\\pnsn\\lib\\site-packages (from requests->obspy) (3.4)\n",
      "Requirement already satisfied: certifi>=2017.4.17 in c:\\users\\wolfn\\anaconda3\\envs\\pnsn\\lib\\site-packages (from requests->obspy) (2022.12.7)\n",
      "Requirement already satisfied: urllib3<1.27,>=1.21.1 in c:\\users\\wolfn\\anaconda3\\envs\\pnsn\\lib\\site-packages (from requests->obspy) (1.26.14)\n",
      "Requirement already satisfied: greenlet!=0.4.17 in c:\\users\\wolfn\\anaconda3\\envs\\pnsn\\lib\\site-packages (from sqlalchemy->obspy) (2.0.2)\n"
     ]
    }
   ],
   "source": [
    "!pip install obspy wget"
   ]
  },
  {
   "cell_type": "code",
   "execution_count": 61,
   "metadata": {},
   "outputs": [],
   "source": [
    "import obspy\n",
    "import numpy as np\n",
    "import scipy\n",
    "import pandas as pd\n",
    "import h5py\n",
    "from obspy.clients.fdsn.client import Client \n",
    "client= Client(\"IRIS\")\n",
    "from scipy.signal import decimate, butter,filtfilt\n",
    "import matplotlib.pyplot as plt\n",
    "import wget\n",
    "import scipy.signal as signal\n",
    "from obspy.geodetics.base import gps2dist_azimuth\n",
    "from obspy.geodetics import locations2degrees\n",
    "import matplotlib.dates as mdates\n",
    "\n",
    "# datetime interaction\n",
    "from datetime import datetime\n",
    "from datetime import timedelta as dt\n",
    "from obspy.core.utcdatetime import UTCDateTime"
   ]
  },
  {
   "cell_type": "code",
   "execution_count": 68,
   "metadata": {},
   "outputs": [],
   "source": [
    "df = pd.read_csv(\"C:/Users/wolfn/.seisbench/datasets/comcat/comcat_metadata.csv\")\n",
    "df2 = pd.read_csv(\"C:/Users/wolfn/.seisbench/datasets/comcat/miniPNW_metadata.csv\")"
   ]
  },
  {
   "cell_type": "code",
   "execution_count": 113,
   "metadata": {},
   "outputs": [
    {
     "data": {
      "text/plain": [
       "array(['md', 'ml', 'mh'], dtype=object)"
      ]
     },
     "execution_count": 113,
     "metadata": {},
     "output_type": "execute_result"
    }
   ],
   "source": [
    "df['preferred_source_magnitude_type'].unique()"
   ]
  },
  {
   "cell_type": "code",
   "execution_count": 63,
   "metadata": {},
   "outputs": [],
   "source": [
    "f = h5py.File(\"C:/Users/wolfn/.seisbench/datasets/comcat/comcat_waveforms.hdf5\", \"r\")\n",
    "f2 = h5py.File(\"C:/Users/wolfn/.seisbench/datasets/comcat/miniPNw_waveforms.hdf5\", \"r\")"
   ]
  },
  {
   "cell_type": "code",
   "execution_count": 85,
   "metadata": {},
   "outputs": [
    {
     "data": {
      "text/plain": [
       "'2002-10-03T01:56:49.530000Z'"
      ]
     },
     "execution_count": 85,
     "metadata": {},
     "output_type": "execute_result"
    }
   ],
   "source": [
    "# Calculate P/S ratios for all events labeled explosion\n",
    "\n",
    "# df = df[df['source_type'] == 'explosion']\n",
    "df['source_origin_time'][1]"
   ]
  },
  {
   "cell_type": "code",
   "execution_count": 77,
   "metadata": {},
   "outputs": [],
   "source": [
    "def read_data(df: pd.DataFrame, index: int, apply_filter = None, freq = None, freqmax = None, freqmin = None):\n",
    "    \"\"\"\n",
    "    This function taks in a dataframe and some index from that dataframe. Can add filters if desired. \n",
    "    Returns stream object, p-wave arrival time, s-wave arrival time, and distance between event and seismogram in km\n",
    "    \"\"\"\n",
    "    # read in metadata\n",
    "    source_id = df.iloc[index]['event_id']\n",
    "    net = df.iloc[index]['station_network_code']\n",
    "    sta = df.iloc[index]['station_code']\n",
    "    loc =  df.iloc[index]['station_location_code']\n",
    "    cha = df.iloc[index]['trace_channel'] # switched form station channel code -> trace_channel\n",
    "    sample_p = df.iloc[index]['trace_P_arrival_sample']\n",
    "    sample_s = df.iloc[index]['trace_S_arrival_sample']\n",
    "    trace_starttime = df.iloc[index]['trace_start_time']\n",
    "    sample_rate = df.iloc[index]['trace_sampling_rate_hz']\n",
    "\n",
    "\n",
    "    # calculate the distance\n",
    "\n",
    "\n",
    "    # station latitude and longitude\n",
    "    slat = df.iloc[index]['station_latitude_deg']\n",
    "    slon = df.iloc[index]['station_longitude_deg']\n",
    "\n",
    "\n",
    "    # source latitude and longitude\n",
    "    lat0 = df.iloc[index]['source_latitude_deg'] \n",
    "    lon0 = df.iloc[index]['source_longitude_deg']\n",
    "\n",
    "\n",
    "    # Use Obspy.gps2dist_azimuth to calc great circle distance in meters, azimuth A->B in degrees, azimuth B->A in degrees\n",
    "    dist,az,baz=gps2dist_azimuth(lat0,lon0,slat,slon)\n",
    "\n",
    "\n",
    "\n",
    "    # read the data\n",
    "\n",
    "    # Store trace name in tn so that we can use it to grab waveform from hdf5 file\n",
    "    tn = df.iloc[index]['trace_name']\n",
    "    bucket, narray = tn.split('$')\n",
    "    x, y, z = iter([int(i) for i in narray.split(',:')])\n",
    "    # print(x,y,z)\n",
    "    data = f['/data/%s' % bucket][x, :y, :z]\n",
    "\n",
    "\n",
    "    # Create stream object\n",
    "\n",
    "    stream = obspy.Stream()\n",
    "\n",
    "\n",
    "    for i in range(3):\n",
    "        tr = obspy.Trace()\n",
    "        tr.data = data[i, :]\n",
    "        tr.stats.sampling_rate = df.iloc[index]['trace_sampling_rate_hz']\n",
    "        tr.stats.starttime = datetime.utcfromtimestamp(UTCDateTime(trace_starttime).timestamp)\n",
    "        tr.stats.station = sta\n",
    "        tr.stats.network = net\n",
    "        tr.stats.location = loc\n",
    "        if i == 0:\n",
    "          tr.stats.channel = cha+\"E\"\n",
    "        elif i == 1:\n",
    "          tr.stats.channel = cha+\"N\"\n",
    "        else :\n",
    "          tr.stats.channel = cha+\"Z\"\n",
    "        stream.append(tr)\n",
    "\n",
    "    if apply_filter == 'bandpass':\n",
    "        stream.filter(apply_filter, freqmin = freqmin, freqmax = freqmax)\n",
    "    elif apply_filter is not None:\n",
    "        stream.filter(apply_filter, freq = freq)\n",
    "\n",
    "    #Phase pick and arrival time info\n",
    "\n",
    "    starttime = datetime.utcfromtimestamp(UTCDateTime(trace_starttime).timestamp)\n",
    "    x = [starttime + dt(seconds = i/sample_rate) for i in np.arange(15001)]\n",
    "    p_time = sample_p/sample_rate \n",
    "    s_time = sample_s/sample_rate\n",
    "\n",
    "\n",
    "    return stream, p_time, s_time, dist/1000"
   ]
  },
  {
   "cell_type": "code",
   "execution_count": 92,
   "metadata": {},
   "outputs": [
    {
     "name": "stdout",
     "output_type": "stream",
     "text": [
      "2002-10-03T01:55:59.530000Z\n",
      "2002-10-03T01:56:53.950000Z\n"
     ]
    }
   ],
   "source": [
    "tr, tp, ts, dist = read_data(df, 3)\n",
    "print(tr[0].stats.starttime)\n",
    "tp1 = UTCDateTime(tr[0].stats.starttime) + tp\n",
    "print(tp1)"
   ]
  },
  {
   "cell_type": "code",
   "execution_count": 109,
   "metadata": {},
   "outputs": [
    {
     "data": {
      "text/plain": [
       "183909"
      ]
     },
     "execution_count": 109,
     "metadata": {},
     "output_type": "execute_result"
    }
   ],
   "source": [
    "# len(df['event_id'].unique())\n",
    "ps_ratio = np.zeros(183909)\n",
    "len(ps_ratio)\n"
   ]
  },
  {
   "cell_type": "code",
   "execution_count": 110,
   "metadata": {},
   "outputs": [
    {
     "name": "stdout",
     "output_type": "stream",
     "text": [
      "2002-10-03T01:55:59.530000Z\n",
      "Source type:  earthquake P/S ratio: 0.0\n",
      "2002-10-03T01:55:59.530000Z\n"
     ]
    },
    {
     "name": "stderr",
     "output_type": "stream",
     "text": [
      "c:\\Users\\wolfn\\anaconda3\\envs\\PNSN\\lib\\site-packages\\obspy\\core\\inventory\\response.py:1935: UserWarning: More than one PolesZerosResponseStage encountered. Returning first one found.\n",
      "  warnings.warn(msg)\n"
     ]
    },
    {
     "name": "stdout",
     "output_type": "stream",
     "text": [
      "Source type:  earthquake P/S ratio: 0.0\n",
      "2002-10-03T01:55:59.530000Z\n",
      "Source type:  earthquake P/S ratio: 0.0\n",
      "2002-10-03T01:55:59.530000Z\n"
     ]
    },
    {
     "name": "stderr",
     "output_type": "stream",
     "text": [
      "c:\\Users\\wolfn\\anaconda3\\envs\\PNSN\\lib\\site-packages\\obspy\\core\\inventory\\response.py:1935: UserWarning: More than one PolesZerosResponseStage encountered. Returning first one found.\n",
      "  warnings.warn(msg)\n"
     ]
    },
    {
     "name": "stdout",
     "output_type": "stream",
     "text": [
      "Source type:  earthquake P/S ratio: 0.0\n",
      "2002-09-26T06:59:14.860000Z\n",
      "Source type:  earthquake P/S ratio: 0.0\n",
      "2002-09-26T06:59:14.860000Z\n",
      "Source type:  earthquake P/S ratio: 0.0\n",
      "2002-09-26T06:59:14.860000Z\n",
      "Source type:  earthquake P/S ratio: 0.0\n",
      "2002-09-25T10:33:03.380000Z\n",
      "Source type:  earthquake P/S ratio: 0.0\n",
      "2002-09-25T10:33:03.380000Z\n",
      "Source type:  earthquake P/S ratio: 0.0\n",
      "2002-09-25T10:33:03.380000Z\n",
      "Source type:  earthquake P/S ratio: 0.0\n",
      "2002-09-25T10:33:03.380000Z\n"
     ]
    },
    {
     "name": "stderr",
     "output_type": "stream",
     "text": [
      "c:\\Users\\wolfn\\anaconda3\\envs\\PNSN\\lib\\site-packages\\obspy\\core\\inventory\\response.py:1935: UserWarning: More than one PolesZerosResponseStage encountered. Returning first one found.\n",
      "  warnings.warn(msg)\n",
      "c:\\Users\\wolfn\\anaconda3\\envs\\PNSN\\lib\\site-packages\\obspy\\core\\inventory\\response.py:1935: UserWarning: More than one PolesZerosResponseStage encountered. Returning first one found.\n",
      "  warnings.warn(msg)\n",
      "c:\\Users\\wolfn\\anaconda3\\envs\\PNSN\\lib\\site-packages\\obspy\\core\\inventory\\response.py:1935: UserWarning: More than one PolesZerosResponseStage encountered. Returning first one found.\n",
      "  warnings.warn(msg)\n"
     ]
    },
    {
     "name": "stdout",
     "output_type": "stream",
     "text": [
      "Source type:  earthquake P/S ratio: 0.0\n",
      "2002-09-25T07:30:05.200000Z\n",
      "Source type:  earthquake P/S ratio: 0.0\n",
      "2002-09-25T07:30:05.200000Z\n"
     ]
    },
    {
     "name": "stderr",
     "output_type": "stream",
     "text": [
      "c:\\Users\\wolfn\\anaconda3\\envs\\PNSN\\lib\\site-packages\\obspy\\core\\inventory\\response.py:1935: UserWarning: More than one PolesZerosResponseStage encountered. Returning first one found.\n",
      "  warnings.warn(msg)\n",
      "c:\\Users\\wolfn\\anaconda3\\envs\\PNSN\\lib\\site-packages\\obspy\\core\\inventory\\response.py:1935: UserWarning: More than one PolesZerosResponseStage encountered. Returning first one found.\n",
      "  warnings.warn(msg)\n"
     ]
    },
    {
     "name": "stdout",
     "output_type": "stream",
     "text": [
      "Source type:  earthquake P/S ratio: 0.0\n",
      "2002-09-25T07:30:05.200000Z\n",
      "Source type:  earthquake P/S ratio: 0.0\n",
      "2002-09-25T07:30:05.200000Z\n",
      "Source type:  earthquake P/S ratio: 0.0\n",
      "2002-09-25T07:30:05.200000Z\n",
      "Source type:  earthquake P/S ratio: 0.0\n",
      "2002-09-25T07:30:05.200000Z\n",
      "Source type:  earthquake P/S ratio: 0.0\n",
      "2002-09-25T05:34:59.450000Z\n"
     ]
    },
    {
     "name": "stderr",
     "output_type": "stream",
     "text": [
      "c:\\Users\\wolfn\\anaconda3\\envs\\PNSN\\lib\\site-packages\\obspy\\core\\inventory\\response.py:1935: UserWarning: More than one PolesZerosResponseStage encountered. Returning first one found.\n",
      "  warnings.warn(msg)\n"
     ]
    },
    {
     "name": "stdout",
     "output_type": "stream",
     "text": [
      "Source type:  earthquake P/S ratio: 0.0\n",
      "2002-09-25T05:34:59.450000Z\n",
      "Source type:  earthquake P/S ratio: 0.0\n",
      "2002-09-25T05:34:59.450000Z\n",
      "Source type:  earthquake P/S ratio: 0.0\n",
      "2002-09-25T05:34:59.450000Z\n"
     ]
    },
    {
     "name": "stderr",
     "output_type": "stream",
     "text": [
      "c:\\Users\\wolfn\\anaconda3\\envs\\PNSN\\lib\\site-packages\\obspy\\core\\inventory\\response.py:1935: UserWarning: More than one PolesZerosResponseStage encountered. Returning first one found.\n",
      "  warnings.warn(msg)\n",
      "c:\\Users\\wolfn\\anaconda3\\envs\\PNSN\\lib\\site-packages\\obspy\\core\\inventory\\response.py:1935: UserWarning: More than one PolesZerosResponseStage encountered. Returning first one found.\n",
      "  warnings.warn(msg)\n",
      "c:\\Users\\wolfn\\anaconda3\\envs\\PNSN\\lib\\site-packages\\obspy\\core\\inventory\\response.py:1935: UserWarning: More than one PolesZerosResponseStage encountered. Returning first one found.\n",
      "  warnings.warn(msg)\n"
     ]
    },
    {
     "name": "stdout",
     "output_type": "stream",
     "text": [
      "Source type:  earthquake P/S ratio: 0.0\n",
      "2002-09-25T05:30:04.220000Z\n",
      "Source type:  earthquake P/S ratio: 0.0\n",
      "2002-09-25T05:30:04.220000Z\n"
     ]
    },
    {
     "name": "stderr",
     "output_type": "stream",
     "text": [
      "c:\\Users\\wolfn\\anaconda3\\envs\\PNSN\\lib\\site-packages\\obspy\\core\\inventory\\response.py:1935: UserWarning: More than one PolesZerosResponseStage encountered. Returning first one found.\n",
      "  warnings.warn(msg)\n",
      "c:\\Users\\wolfn\\anaconda3\\envs\\PNSN\\lib\\site-packages\\obspy\\core\\inventory\\response.py:1935: UserWarning: More than one PolesZerosResponseStage encountered. Returning first one found.\n",
      "  warnings.warn(msg)\n",
      "c:\\Users\\wolfn\\anaconda3\\envs\\PNSN\\lib\\site-packages\\obspy\\core\\inventory\\response.py:1935: UserWarning: More than one PolesZerosResponseStage encountered. Returning first one found.\n",
      "  warnings.warn(msg)\n"
     ]
    },
    {
     "name": "stdout",
     "output_type": "stream",
     "text": [
      "Source type:  earthquake P/S ratio: 0.0\n",
      "2002-09-25T05:30:04.220000Z\n",
      "Source type:  earthquake P/S ratio: 0.0\n",
      "2002-09-23T19:05:22.980000Z\n",
      "Source type:  explosion P/S ratio: 0.0\n",
      "2002-09-21T08:06:24.360000Z\n",
      "Source type:  earthquake P/S ratio: 0.0\n",
      "2002-09-21T08:06:24.360000Z\n",
      "Source type:  earthquake P/S ratio: 0.0\n",
      "2002-09-21T08:06:24.360000Z\n",
      "Source type:  earthquake P/S ratio: 0.0\n",
      "2002-09-21T08:06:24.360000Z\n"
     ]
    },
    {
     "name": "stderr",
     "output_type": "stream",
     "text": [
      "c:\\Users\\wolfn\\anaconda3\\envs\\PNSN\\lib\\site-packages\\obspy\\core\\inventory\\response.py:1935: UserWarning: More than one PolesZerosResponseStage encountered. Returning first one found.\n",
      "  warnings.warn(msg)\n",
      "c:\\Users\\wolfn\\anaconda3\\envs\\PNSN\\lib\\site-packages\\obspy\\core\\inventory\\response.py:1935: UserWarning: More than one PolesZerosResponseStage encountered. Returning first one found.\n",
      "  warnings.warn(msg)\n"
     ]
    },
    {
     "name": "stdout",
     "output_type": "stream",
     "text": [
      "Source type:  earthquake P/S ratio: 0.0\n",
      "2002-09-21T08:06:24.360000Z\n",
      "Source type:  earthquake P/S ratio: 0.0\n",
      "2002-09-21T00:54:30.960000Z\n"
     ]
    },
    {
     "name": "stderr",
     "output_type": "stream",
     "text": [
      "c:\\Users\\wolfn\\anaconda3\\envs\\PNSN\\lib\\site-packages\\obspy\\core\\inventory\\response.py:1935: UserWarning: More than one PolesZerosResponseStage encountered. Returning first one found.\n",
      "  warnings.warn(msg)\n",
      "c:\\Users\\wolfn\\anaconda3\\envs\\PNSN\\lib\\site-packages\\obspy\\core\\inventory\\response.py:1935: UserWarning: More than one PolesZerosResponseStage encountered. Returning first one found.\n",
      "  warnings.warn(msg)\n"
     ]
    },
    {
     "name": "stdout",
     "output_type": "stream",
     "text": [
      "Source type:  earthquake P/S ratio: 0.0\n",
      "2002-09-18T04:36:38.520000Z\n",
      "Source type:  earthquake P/S ratio: 0.0\n",
      "2002-09-18T04:36:38.520000Z\n",
      "Source type:  earthquake P/S ratio: 0.0\n",
      "2002-09-18T04:36:38.520000Z\n"
     ]
    },
    {
     "name": "stderr",
     "output_type": "stream",
     "text": [
      "c:\\Users\\wolfn\\anaconda3\\envs\\PNSN\\lib\\site-packages\\obspy\\core\\inventory\\response.py:1935: UserWarning: More than one PolesZerosResponseStage encountered. Returning first one found.\n",
      "  warnings.warn(msg)\n",
      "c:\\Users\\wolfn\\anaconda3\\envs\\PNSN\\lib\\site-packages\\obspy\\core\\inventory\\response.py:1935: UserWarning: More than one PolesZerosResponseStage encountered. Returning first one found.\n",
      "  warnings.warn(msg)\n",
      "c:\\Users\\wolfn\\anaconda3\\envs\\PNSN\\lib\\site-packages\\obspy\\core\\inventory\\response.py:1935: UserWarning: More than one PolesZerosResponseStage encountered. Returning first one found.\n",
      "  warnings.warn(msg)\n"
     ]
    },
    {
     "name": "stdout",
     "output_type": "stream",
     "text": [
      "Source type:  earthquake P/S ratio: 0.0\n",
      "2002-09-18T04:36:38.520000Z\n",
      "Source type:  earthquake P/S ratio: 0.0\n",
      "2002-09-18T04:36:38.520000Z\n",
      "Source type:  earthquake P/S ratio: 0.0\n",
      "2002-09-18T04:36:38.520000Z\n"
     ]
    },
    {
     "name": "stderr",
     "output_type": "stream",
     "text": [
      "c:\\Users\\wolfn\\anaconda3\\envs\\PNSN\\lib\\site-packages\\obspy\\core\\inventory\\response.py:1935: UserWarning: More than one PolesZerosResponseStage encountered. Returning first one found.\n",
      "  warnings.warn(msg)\n",
      "c:\\Users\\wolfn\\anaconda3\\envs\\PNSN\\lib\\site-packages\\obspy\\core\\inventory\\response.py:1935: UserWarning: More than one PolesZerosResponseStage encountered. Returning first one found.\n",
      "  warnings.warn(msg)\n",
      "c:\\Users\\wolfn\\anaconda3\\envs\\PNSN\\lib\\site-packages\\obspy\\core\\inventory\\response.py:1935: UserWarning: More than one PolesZerosResponseStage encountered. Returning first one found.\n",
      "  warnings.warn(msg)\n"
     ]
    },
    {
     "name": "stdout",
     "output_type": "stream",
     "text": [
      "Source type:  earthquake P/S ratio: 0.0\n",
      "2002-09-18T04:36:38.520000Z\n",
      "Source type:  earthquake P/S ratio: 0.0\n",
      "2002-09-16T20:15:59.720000Z\n",
      "Source type:  explosion P/S ratio: 0.0\n",
      "2002-09-15T23:02:37.550000Z\n",
      "Source type:  earthquake P/S ratio: 0.0\n",
      "2002-09-15T23:02:37.550000Z\n",
      "Source type:  earthquake P/S ratio: 0.0\n",
      "2002-09-15T23:02:37.550000Z\n",
      "Source type:  earthquake P/S ratio: 0.0\n",
      "2002-09-15T23:02:37.550000Z\n"
     ]
    },
    {
     "name": "stderr",
     "output_type": "stream",
     "text": [
      "c:\\Users\\wolfn\\anaconda3\\envs\\PNSN\\lib\\site-packages\\obspy\\core\\inventory\\response.py:1935: UserWarning: More than one PolesZerosResponseStage encountered. Returning first one found.\n",
      "  warnings.warn(msg)\n",
      "c:\\Users\\wolfn\\anaconda3\\envs\\PNSN\\lib\\site-packages\\obspy\\core\\inventory\\response.py:1935: UserWarning: More than one PolesZerosResponseStage encountered. Returning first one found.\n",
      "  warnings.warn(msg)\n",
      "c:\\Users\\wolfn\\anaconda3\\envs\\PNSN\\lib\\site-packages\\obspy\\core\\inventory\\response.py:1935: UserWarning: More than one PolesZerosResponseStage encountered. Returning first one found.\n",
      "  warnings.warn(msg)\n"
     ]
    },
    {
     "name": "stdout",
     "output_type": "stream",
     "text": [
      "Source type:  earthquake P/S ratio: 0.0\n",
      "2002-09-13T14:59:04.050000Z\n",
      "Source type:  earthquake P/S ratio: 0.0\n",
      "2002-09-13T14:59:04.050000Z\n"
     ]
    },
    {
     "name": "stderr",
     "output_type": "stream",
     "text": [
      "c:\\Users\\wolfn\\anaconda3\\envs\\PNSN\\lib\\site-packages\\obspy\\core\\inventory\\response.py:1935: UserWarning: More than one PolesZerosResponseStage encountered. Returning first one found.\n",
      "  warnings.warn(msg)\n"
     ]
    },
    {
     "name": "stdout",
     "output_type": "stream",
     "text": [
      "Source type:  earthquake P/S ratio: 0.0\n",
      "2002-09-13T14:32:14.670000Z\n",
      "Source type:  earthquake P/S ratio: 0.0\n",
      "2002-09-13T14:32:14.670000Z\n"
     ]
    },
    {
     "name": "stderr",
     "output_type": "stream",
     "text": [
      "c:\\Users\\wolfn\\anaconda3\\envs\\PNSN\\lib\\site-packages\\obspy\\core\\inventory\\response.py:1935: UserWarning: More than one PolesZerosResponseStage encountered. Returning first one found.\n",
      "  warnings.warn(msg)\n",
      "c:\\Users\\wolfn\\anaconda3\\envs\\PNSN\\lib\\site-packages\\obspy\\core\\inventory\\response.py:1935: UserWarning: More than one PolesZerosResponseStage encountered. Returning first one found.\n",
      "  warnings.warn(msg)\n"
     ]
    },
    {
     "name": "stdout",
     "output_type": "stream",
     "text": [
      "Source type:  earthquake P/S ratio: 0.0\n",
      "2002-09-13T14:32:14.670000Z\n",
      "Source type:  earthquake P/S ratio: 0.0\n",
      "2002-09-13T14:32:14.670000Z\n",
      "Source type:  earthquake P/S ratio: 0.0\n",
      "2002-09-13T14:32:14.670000Z\n",
      "Source type:  earthquake P/S ratio: 0.0\n",
      "2002-08-31T01:22:49.420000Z\n",
      "Source type:  earthquake P/S ratio: 0.0\n",
      "2002-08-31T01:22:49.420000Z\n"
     ]
    },
    {
     "name": "stderr",
     "output_type": "stream",
     "text": [
      "c:\\Users\\wolfn\\anaconda3\\envs\\PNSN\\lib\\site-packages\\obspy\\core\\inventory\\response.py:1935: UserWarning: More than one PolesZerosResponseStage encountered. Returning first one found.\n",
      "  warnings.warn(msg)\n",
      "c:\\Users\\wolfn\\anaconda3\\envs\\PNSN\\lib\\site-packages\\obspy\\core\\inventory\\response.py:1935: UserWarning: More than one PolesZerosResponseStage encountered. Returning first one found.\n",
      "  warnings.warn(msg)\n",
      "c:\\Users\\wolfn\\anaconda3\\envs\\PNSN\\lib\\site-packages\\obspy\\core\\inventory\\response.py:1935: UserWarning: More than one PolesZerosResponseStage encountered. Returning first one found.\n",
      "  warnings.warn(msg)\n"
     ]
    },
    {
     "name": "stdout",
     "output_type": "stream",
     "text": [
      "Source type:  earthquake P/S ratio: 0.0\n",
      "2002-08-31T01:22:49.420000Z\n",
      "Source type:  earthquake P/S ratio: 0.0\n",
      "2002-08-30T02:02:24.440000Z\n",
      "Source type:  earthquake P/S ratio: 0.0\n",
      "2002-08-30T02:02:24.440000Z\n",
      "Source type:  earthquake P/S ratio: 0.0\n",
      "2002-08-30T02:02:24.440000Z\n"
     ]
    },
    {
     "name": "stderr",
     "output_type": "stream",
     "text": [
      "c:\\Users\\wolfn\\anaconda3\\envs\\PNSN\\lib\\site-packages\\obspy\\core\\inventory\\response.py:1935: UserWarning: More than one PolesZerosResponseStage encountered. Returning first one found.\n",
      "  warnings.warn(msg)\n"
     ]
    },
    {
     "name": "stdout",
     "output_type": "stream",
     "text": [
      "Source type:  earthquake P/S ratio: 0.0\n",
      "2002-08-30T02:02:24.440000Z\n",
      "Source type:  earthquake P/S ratio: 0.0\n",
      "2002-08-28T04:56:51.600000Z\n"
     ]
    },
    {
     "name": "stderr",
     "output_type": "stream",
     "text": [
      "c:\\Users\\wolfn\\anaconda3\\envs\\PNSN\\lib\\site-packages\\obspy\\core\\inventory\\response.py:1935: UserWarning: More than one PolesZerosResponseStage encountered. Returning first one found.\n",
      "  warnings.warn(msg)\n"
     ]
    },
    {
     "name": "stdout",
     "output_type": "stream",
     "text": [
      "Source type:  earthquake P/S ratio: 0.0\n",
      "2002-08-28T04:56:51.600000Z\n",
      "Source type:  earthquake P/S ratio: 0.0\n",
      "2002-08-09T20:55:22.720000Z\n"
     ]
    },
    {
     "name": "stderr",
     "output_type": "stream",
     "text": [
      "c:\\Users\\wolfn\\anaconda3\\envs\\PNSN\\lib\\site-packages\\obspy\\core\\inventory\\response.py:1935: UserWarning: More than one PolesZerosResponseStage encountered. Returning first one found.\n",
      "  warnings.warn(msg)\n",
      "c:\\Users\\wolfn\\anaconda3\\envs\\PNSN\\lib\\site-packages\\obspy\\core\\inventory\\response.py:1935: UserWarning: More than one PolesZerosResponseStage encountered. Returning first one found.\n",
      "  warnings.warn(msg)\n",
      "c:\\Users\\wolfn\\anaconda3\\envs\\PNSN\\lib\\site-packages\\obspy\\core\\inventory\\response.py:1935: UserWarning: More than one PolesZerosResponseStage encountered. Returning first one found.\n",
      "  warnings.warn(msg)\n",
      "c:\\Users\\wolfn\\anaconda3\\envs\\PNSN\\lib\\site-packages\\obspy\\core\\inventory\\response.py:1935: UserWarning: More than one PolesZerosResponseStage encountered. Returning first one found.\n",
      "  warnings.warn(msg)\n"
     ]
    },
    {
     "name": "stdout",
     "output_type": "stream",
     "text": [
      "Source type:  earthquake P/S ratio: 0.0\n",
      "2002-08-09T20:55:22.720000Z\n",
      "Source type:  earthquake P/S ratio: 0.0\n",
      "2002-08-09T20:55:22.720000Z\n",
      "Source type:  earthquake P/S ratio: 0.0\n",
      "2002-07-22T04:25:42.710000Z\n",
      "Source type:  earthquake P/S ratio: 0.0\n",
      "2002-07-22T04:25:42.710000Z\n",
      "Source type:  earthquake P/S ratio: 0.0\n",
      "2002-07-22T04:25:42.710000Z\n"
     ]
    },
    {
     "name": "stderr",
     "output_type": "stream",
     "text": [
      "c:\\Users\\wolfn\\anaconda3\\envs\\PNSN\\lib\\site-packages\\obspy\\core\\inventory\\response.py:1935: UserWarning: More than one PolesZerosResponseStage encountered. Returning first one found.\n",
      "  warnings.warn(msg)\n",
      "c:\\Users\\wolfn\\anaconda3\\envs\\PNSN\\lib\\site-packages\\obspy\\core\\inventory\\response.py:1935: UserWarning: More than one PolesZerosResponseStage encountered. Returning first one found.\n",
      "  warnings.warn(msg)\n"
     ]
    },
    {
     "name": "stdout",
     "output_type": "stream",
     "text": [
      "Source type:  earthquake P/S ratio: 0.0\n",
      "2002-07-22T04:25:42.710000Z\n",
      "Source type:  earthquake P/S ratio: 0.0\n",
      "2002-07-08T00:03:48.230000Z\n",
      "Source type:  earthquake P/S ratio: 0.0\n",
      "2002-06-30T11:15:33.280000Z\n"
     ]
    },
    {
     "name": "stderr",
     "output_type": "stream",
     "text": [
      "c:\\Users\\wolfn\\anaconda3\\envs\\PNSN\\lib\\site-packages\\obspy\\core\\inventory\\response.py:1935: UserWarning: More than one PolesZerosResponseStage encountered. Returning first one found.\n",
      "  warnings.warn(msg)\n"
     ]
    },
    {
     "name": "stdout",
     "output_type": "stream",
     "text": [
      "Source type:  earthquake P/S ratio: 0.0\n",
      "2002-06-27T20:13:32.240000Z\n",
      "Source type:  earthquake P/S ratio: 0.0\n",
      "2002-06-27T20:13:32.240000Z\n"
     ]
    },
    {
     "name": "stderr",
     "output_type": "stream",
     "text": [
      "c:\\Users\\wolfn\\anaconda3\\envs\\PNSN\\lib\\site-packages\\obspy\\core\\inventory\\response.py:1935: UserWarning: More than one PolesZerosResponseStage encountered. Returning first one found.\n",
      "  warnings.warn(msg)\n",
      "c:\\Users\\wolfn\\anaconda3\\envs\\PNSN\\lib\\site-packages\\obspy\\core\\inventory\\response.py:1935: UserWarning: More than one PolesZerosResponseStage encountered. Returning first one found.\n",
      "  warnings.warn(msg)\n"
     ]
    },
    {
     "name": "stdout",
     "output_type": "stream",
     "text": [
      "Source type:  earthquake P/S ratio: 0.0\n",
      "2002-06-27T20:13:32.240000Z\n",
      "Source type:  earthquake P/S ratio: 0.0\n",
      "2002-06-27T20:13:32.240000Z\n",
      "Source type:  earthquake P/S ratio: 0.0\n",
      "2002-06-27T20:13:32.240000Z\n",
      "Source type:  earthquake P/S ratio: 0.0\n",
      "2002-06-27T20:13:32.240000Z\n"
     ]
    },
    {
     "name": "stderr",
     "output_type": "stream",
     "text": [
      "c:\\Users\\wolfn\\anaconda3\\envs\\PNSN\\lib\\site-packages\\obspy\\core\\inventory\\response.py:1935: UserWarning: More than one PolesZerosResponseStage encountered. Returning first one found.\n",
      "  warnings.warn(msg)\n",
      "c:\\Users\\wolfn\\anaconda3\\envs\\PNSN\\lib\\site-packages\\obspy\\core\\inventory\\response.py:1935: UserWarning: More than one PolesZerosResponseStage encountered. Returning first one found.\n",
      "  warnings.warn(msg)\n",
      "c:\\Users\\wolfn\\anaconda3\\envs\\PNSN\\lib\\site-packages\\obspy\\core\\inventory\\response.py:1935: UserWarning: More than one PolesZerosResponseStage encountered. Returning first one found.\n",
      "  warnings.warn(msg)\n"
     ]
    },
    {
     "name": "stdout",
     "output_type": "stream",
     "text": [
      "Source type:  earthquake P/S ratio: 0.0\n",
      "2002-06-27T20:13:32.240000Z\n",
      "Source type:  earthquake P/S ratio: 0.0\n",
      "2002-06-06T04:44:47.580000Z\n",
      "Source type:  earthquake P/S ratio: 0.0\n",
      "2002-06-02T15:00:09.000000Z\n"
     ]
    },
    {
     "name": "stderr",
     "output_type": "stream",
     "text": [
      "c:\\Users\\wolfn\\anaconda3\\envs\\PNSN\\lib\\site-packages\\obspy\\core\\inventory\\response.py:1935: UserWarning: More than one PolesZerosResponseStage encountered. Returning first one found.\n",
      "  warnings.warn(msg)\n",
      "c:\\Users\\wolfn\\anaconda3\\envs\\PNSN\\lib\\site-packages\\obspy\\core\\inventory\\response.py:1935: UserWarning: More than one PolesZerosResponseStage encountered. Returning first one found.\n",
      "  warnings.warn(msg)\n",
      "c:\\Users\\wolfn\\anaconda3\\envs\\PNSN\\lib\\site-packages\\obspy\\core\\inventory\\response.py:1935: UserWarning: More than one PolesZerosResponseStage encountered. Returning first one found.\n",
      "  warnings.warn(msg)\n"
     ]
    },
    {
     "name": "stdout",
     "output_type": "stream",
     "text": [
      "Source type:  earthquake P/S ratio: 0.0\n",
      "2002-06-02T15:00:09.000000Z\n",
      "Source type:  earthquake P/S ratio: 0.0\n",
      "2002-06-02T15:00:09.000000Z\n"
     ]
    },
    {
     "name": "stderr",
     "output_type": "stream",
     "text": [
      "c:\\Users\\wolfn\\anaconda3\\envs\\PNSN\\lib\\site-packages\\obspy\\core\\inventory\\response.py:1935: UserWarning: More than one PolesZerosResponseStage encountered. Returning first one found.\n",
      "  warnings.warn(msg)\n",
      "c:\\Users\\wolfn\\anaconda3\\envs\\PNSN\\lib\\site-packages\\obspy\\core\\inventory\\response.py:1935: UserWarning: More than one PolesZerosResponseStage encountered. Returning first one found.\n",
      "  warnings.warn(msg)\n"
     ]
    },
    {
     "name": "stdout",
     "output_type": "stream",
     "text": [
      "Source type:  earthquake P/S ratio: 0.0\n",
      "2002-06-02T15:00:09.000000Z\n",
      "Source type:  earthquake P/S ratio: 0.0\n",
      "2002-06-02T15:00:09.000000Z\n",
      "Source type:  earthquake P/S ratio: 0.0\n",
      "2002-06-02T15:00:09.000000Z\n",
      "Source type:  earthquake P/S ratio: 0.0\n",
      "2002-06-02T15:00:09.000000Z\n",
      "Source type:  earthquake P/S ratio: 0.0\n"
     ]
    },
    {
     "name": "stderr",
     "output_type": "stream",
     "text": [
      "c:\\Users\\wolfn\\anaconda3\\envs\\PNSN\\lib\\site-packages\\obspy\\core\\inventory\\response.py:1935: UserWarning: More than one PolesZerosResponseStage encountered. Returning first one found.\n",
      "  warnings.warn(msg)\n",
      "c:\\Users\\wolfn\\anaconda3\\envs\\PNSN\\lib\\site-packages\\obspy\\core\\inventory\\response.py:1935: UserWarning: More than one PolesZerosResponseStage encountered. Returning first one found.\n",
      "  warnings.warn(msg)\n",
      "c:\\Users\\wolfn\\anaconda3\\envs\\PNSN\\lib\\site-packages\\obspy\\core\\inventory\\response.py:1935: UserWarning: More than one PolesZerosResponseStage encountered. Returning first one found.\n",
      "  warnings.warn(msg)\n"
     ]
    },
    {
     "name": "stdout",
     "output_type": "stream",
     "text": [
      "2002-06-02T15:00:09.000000Z\n",
      "Source type:  earthquake P/S ratio: 0.0\n",
      "2002-05-17T05:41:02.340000Z\n",
      "Source type:  earthquake P/S ratio: 0.0\n",
      "2002-05-17T05:41:02.340000Z\n"
     ]
    },
    {
     "name": "stderr",
     "output_type": "stream",
     "text": [
      "c:\\Users\\wolfn\\anaconda3\\envs\\PNSN\\lib\\site-packages\\obspy\\core\\inventory\\response.py:1935: UserWarning: More than one PolesZerosResponseStage encountered. Returning first one found.\n",
      "  warnings.warn(msg)\n",
      "c:\\Users\\wolfn\\anaconda3\\envs\\PNSN\\lib\\site-packages\\obspy\\core\\inventory\\response.py:1935: UserWarning: More than one PolesZerosResponseStage encountered. Returning first one found.\n",
      "  warnings.warn(msg)\n"
     ]
    },
    {
     "name": "stdout",
     "output_type": "stream",
     "text": [
      "Source type:  earthquake P/S ratio: 0.0\n",
      "2002-05-17T05:41:02.340000Z\n",
      "Source type:  earthquake P/S ratio: 0.0\n",
      "2002-05-15T17:53:58.600000Z\n",
      "Source type:  earthquake P/S ratio: 0.0\n",
      "2002-05-15T17:53:58.600000Z\n",
      "Source type:  earthquake P/S ratio: 0.0\n",
      "2002-05-15T17:53:58.600000Z\n",
      "Source type:  earthquake P/S ratio: 0.0\n",
      "2002-05-01T09:08:55.130000Z\n"
     ]
    },
    {
     "name": "stderr",
     "output_type": "stream",
     "text": [
      "c:\\Users\\wolfn\\anaconda3\\envs\\PNSN\\lib\\site-packages\\obspy\\core\\inventory\\response.py:1935: UserWarning: More than one PolesZerosResponseStage encountered. Returning first one found.\n",
      "  warnings.warn(msg)\n",
      "c:\\Users\\wolfn\\anaconda3\\envs\\PNSN\\lib\\site-packages\\obspy\\core\\inventory\\response.py:1935: UserWarning: More than one PolesZerosResponseStage encountered. Returning first one found.\n",
      "  warnings.warn(msg)\n"
     ]
    },
    {
     "name": "stdout",
     "output_type": "stream",
     "text": [
      "Source type:  earthquake P/S ratio: 0.0\n",
      "2002-05-01T09:08:55.130000Z\n",
      "Source type:  earthquake P/S ratio: 0.0\n",
      "2002-05-01T09:08:55.130000Z\n",
      "Source type:  earthquake P/S ratio: 0.0\n",
      "2002-05-01T09:08:55.130000Z\n",
      "Source type:  earthquake P/S ratio: 0.0\n",
      "2002-05-01T09:08:55.130000Z\n"
     ]
    },
    {
     "name": "stderr",
     "output_type": "stream",
     "text": [
      "c:\\Users\\wolfn\\anaconda3\\envs\\PNSN\\lib\\site-packages\\obspy\\core\\inventory\\response.py:1935: UserWarning: More than one PolesZerosResponseStage encountered. Returning first one found.\n",
      "  warnings.warn(msg)\n",
      "c:\\Users\\wolfn\\anaconda3\\envs\\PNSN\\lib\\site-packages\\obspy\\core\\inventory\\response.py:1935: UserWarning: More than one PolesZerosResponseStage encountered. Returning first one found.\n",
      "  warnings.warn(msg)\n"
     ]
    },
    {
     "name": "stdout",
     "output_type": "stream",
     "text": [
      "Source type:  earthquake P/S ratio: 0.0\n",
      "2002-05-01T09:08:55.130000Z\n",
      "Source type:  earthquake P/S ratio: 0.0\n",
      "2002-04-12T05:44:22.140000Z\n",
      "Source type:  earthquake P/S ratio: 0.0\n",
      "2002-04-12T05:44:22.140000Z\n"
     ]
    },
    {
     "name": "stderr",
     "output_type": "stream",
     "text": [
      "c:\\Users\\wolfn\\anaconda3\\envs\\PNSN\\lib\\site-packages\\obspy\\core\\inventory\\response.py:1935: UserWarning: More than one PolesZerosResponseStage encountered. Returning first one found.\n",
      "  warnings.warn(msg)\n"
     ]
    },
    {
     "name": "stdout",
     "output_type": "stream",
     "text": [
      "Source type:  earthquake P/S ratio: 0.0\n",
      "2002-04-12T05:44:22.140000Z\n",
      "Source type:  earthquake P/S ratio: 0.0\n",
      "2002-04-12T05:44:22.140000Z\n",
      "Source type:  earthquake P/S ratio: 0.0\n",
      "2002-04-12T05:44:22.140000Z\n"
     ]
    },
    {
     "name": "stderr",
     "output_type": "stream",
     "text": [
      "c:\\Users\\wolfn\\anaconda3\\envs\\PNSN\\lib\\site-packages\\obspy\\core\\inventory\\response.py:1935: UserWarning: More than one PolesZerosResponseStage encountered. Returning first one found.\n",
      "  warnings.warn(msg)\n",
      "c:\\Users\\wolfn\\anaconda3\\envs\\PNSN\\lib\\site-packages\\obspy\\core\\inventory\\response.py:1935: UserWarning: More than one PolesZerosResponseStage encountered. Returning first one found.\n",
      "  warnings.warn(msg)\n",
      "c:\\Users\\wolfn\\anaconda3\\envs\\PNSN\\lib\\site-packages\\obspy\\core\\inventory\\response.py:1935: UserWarning: More than one PolesZerosResponseStage encountered. Returning first one found.\n",
      "  warnings.warn(msg)\n"
     ]
    },
    {
     "name": "stdout",
     "output_type": "stream",
     "text": [
      "Source type:  earthquake P/S ratio: 0.0\n",
      "2002-04-12T05:44:22.140000Z\n",
      "Source type:  earthquake P/S ratio: 0.0\n",
      "2002-04-12T05:44:22.140000Z\n",
      "Source type:  earthquake P/S ratio: 0.0\n",
      "2002-04-07T06:03:50.960000Z\n"
     ]
    },
    {
     "name": "stderr",
     "output_type": "stream",
     "text": [
      "c:\\Users\\wolfn\\anaconda3\\envs\\PNSN\\lib\\site-packages\\obspy\\core\\inventory\\response.py:1935: UserWarning: More than one PolesZerosResponseStage encountered. Returning first one found.\n",
      "  warnings.warn(msg)\n",
      "c:\\Users\\wolfn\\anaconda3\\envs\\PNSN\\lib\\site-packages\\obspy\\core\\inventory\\response.py:1935: UserWarning: More than one PolesZerosResponseStage encountered. Returning first one found.\n",
      "  warnings.warn(msg)\n"
     ]
    },
    {
     "name": "stdout",
     "output_type": "stream",
     "text": [
      "Source type:  earthquake P/S ratio: 0.0\n",
      "2002-03-13T19:52:41.850000Z\n",
      "Source type:  earthquake P/S ratio: 0.0\n",
      "2002-02-23T14:28:05.990000Z\n",
      "Source type:  earthquake P/S ratio: 0.0\n",
      "2002-02-23T14:28:05.990000Z\n",
      "Source type:  earthquake P/S ratio: 0.0\n",
      "2002-02-19T18:41:39.100000Z\n",
      "Source type:  earthquake P/S ratio: 0.0\n",
      "2002-01-30T04:12:23.470000Z\n",
      "Source type:  earthquake P/S ratio: 0.0\n",
      "2002-01-30T04:12:23.470000Z\n",
      "Source type:  earthquake P/S ratio: 0.0\n",
      "2002-01-30T04:12:23.470000Z\n"
     ]
    },
    {
     "name": "stderr",
     "output_type": "stream",
     "text": [
      "c:\\Users\\wolfn\\anaconda3\\envs\\PNSN\\lib\\site-packages\\obspy\\core\\inventory\\response.py:1935: UserWarning: More than one PolesZerosResponseStage encountered. Returning first one found.\n",
      "  warnings.warn(msg)\n"
     ]
    },
    {
     "name": "stdout",
     "output_type": "stream",
     "text": [
      "Source type:  earthquake P/S ratio: 0.0\n",
      "2002-01-28T01:56:19.080000Z\n",
      "Source type:  earthquake P/S ratio: 0.0\n",
      "2002-08-24T03:35:26.850000Z\n"
     ]
    },
    {
     "name": "stderr",
     "output_type": "stream",
     "text": [
      "c:\\Users\\wolfn\\anaconda3\\envs\\PNSN\\lib\\site-packages\\obspy\\core\\inventory\\response.py:1935: UserWarning: More than one PolesZerosResponseStage encountered. Returning first one found.\n",
      "  warnings.warn(msg)\n",
      "c:\\Users\\wolfn\\anaconda3\\envs\\PNSN\\lib\\site-packages\\obspy\\core\\inventory\\response.py:1935: UserWarning: More than one PolesZerosResponseStage encountered. Returning first one found.\n",
      "  warnings.warn(msg)\n",
      "c:\\Users\\wolfn\\anaconda3\\envs\\PNSN\\lib\\site-packages\\obspy\\core\\inventory\\response.py:1935: UserWarning: More than one PolesZerosResponseStage encountered. Returning first one found.\n",
      "  warnings.warn(msg)\n"
     ]
    },
    {
     "name": "stdout",
     "output_type": "stream",
     "text": [
      "Source type:  earthquake P/S ratio: 0.0\n",
      "2002-08-09T20:15:26.440000Z\n",
      "Source type:  earthquake P/S ratio: 0.0\n",
      "2002-08-09T20:15:26.440000Z\n",
      "Source type:  earthquake P/S ratio: 0.0\n",
      "2002-08-08T03:19:25.300000Z\n"
     ]
    },
    {
     "name": "stderr",
     "output_type": "stream",
     "text": [
      "c:\\Users\\wolfn\\anaconda3\\envs\\PNSN\\lib\\site-packages\\obspy\\core\\inventory\\response.py:1935: UserWarning: More than one PolesZerosResponseStage encountered. Returning first one found.\n",
      "  warnings.warn(msg)\n",
      "c:\\Users\\wolfn\\anaconda3\\envs\\PNSN\\lib\\site-packages\\obspy\\core\\inventory\\response.py:1935: UserWarning: More than one PolesZerosResponseStage encountered. Returning first one found.\n",
      "  warnings.warn(msg)\n",
      "c:\\Users\\wolfn\\anaconda3\\envs\\PNSN\\lib\\site-packages\\obspy\\core\\inventory\\response.py:1935: UserWarning: More than one PolesZerosResponseStage encountered. Returning first one found.\n",
      "  warnings.warn(msg)\n"
     ]
    },
    {
     "name": "stdout",
     "output_type": "stream",
     "text": [
      "Source type:  earthquake P/S ratio: 0.0\n",
      "2002-08-08T03:19:25.300000Z\n",
      "Source type:  earthquake P/S ratio: 0.0\n",
      "2002-08-08T03:19:25.300000Z\n",
      "Source type:  earthquake P/S ratio: 0.0\n",
      "2002-08-08T03:19:25.300000Z\n"
     ]
    },
    {
     "name": "stderr",
     "output_type": "stream",
     "text": [
      "c:\\Users\\wolfn\\anaconda3\\envs\\PNSN\\lib\\site-packages\\obspy\\core\\inventory\\response.py:1935: UserWarning: More than one PolesZerosResponseStage encountered. Returning first one found.\n",
      "  warnings.warn(msg)\n",
      "c:\\Users\\wolfn\\anaconda3\\envs\\PNSN\\lib\\site-packages\\obspy\\core\\inventory\\response.py:1935: UserWarning: More than one PolesZerosResponseStage encountered. Returning first one found.\n",
      "  warnings.warn(msg)\n",
      "c:\\Users\\wolfn\\anaconda3\\envs\\PNSN\\lib\\site-packages\\obspy\\core\\inventory\\response.py:1935: UserWarning: More than one PolesZerosResponseStage encountered. Returning first one found.\n",
      "  warnings.warn(msg)\n"
     ]
    },
    {
     "name": "stdout",
     "output_type": "stream",
     "text": [
      "Source type:  earthquake P/S ratio: 0.0\n",
      "2002-08-08T03:19:25.300000Z\n",
      "Source type:  earthquake P/S ratio: 0.0\n",
      "2002-08-08T03:19:25.300000Z\n",
      "Source type:  earthquake P/S ratio: 0.0\n",
      "2002-08-07T16:16:41.410000Z\n",
      "Source type:  earthquake P/S ratio: 0.0\n",
      "2002-08-07T16:16:41.410000Z\n",
      "Source type:  earthquake P/S ratio: 0.0\n",
      "2002-08-07T16:16:41.410000Z\n"
     ]
    },
    {
     "name": "stderr",
     "output_type": "stream",
     "text": [
      "c:\\Users\\wolfn\\anaconda3\\envs\\PNSN\\lib\\site-packages\\obspy\\core\\inventory\\response.py:1935: UserWarning: More than one PolesZerosResponseStage encountered. Returning first one found.\n",
      "  warnings.warn(msg)\n",
      "C:\\Users\\wolfn\\AppData\\Local\\Temp\\ipykernel_24152\\1563769036.py:64: RuntimeWarning: invalid value encountered in sqrt\n",
      "  ps_ratio[i] = np.sqrt(wavep_value - noise_value) / np.sqrt( wave_s_value - noise_value)\n",
      "c:\\Users\\wolfn\\anaconda3\\envs\\PNSN\\lib\\site-packages\\obspy\\core\\inventory\\response.py:1935: UserWarning: More than one PolesZerosResponseStage encountered. Returning first one found.\n",
      "  warnings.warn(msg)\n"
     ]
    },
    {
     "name": "stdout",
     "output_type": "stream",
     "text": [
      "Source type:  earthquake P/S ratio: 0.0\n",
      "2002-08-07T16:16:41.410000Z\n",
      "Source type:  earthquake P/S ratio: 0.0\n",
      "2002-08-03T05:59:24.280000Z\n",
      "Source type:  earthquake P/S ratio: 0.0\n",
      "2002-08-03T05:59:24.280000Z\n",
      "Source type:  earthquake P/S ratio: 0.0\n",
      "2002-08-03T05:59:24.280000Z\n",
      "Source type:  earthquake P/S ratio: 0.0\n",
      "2002-08-03T05:59:24.280000Z\n"
     ]
    },
    {
     "name": "stderr",
     "output_type": "stream",
     "text": [
      "c:\\Users\\wolfn\\anaconda3\\envs\\PNSN\\lib\\site-packages\\obspy\\core\\inventory\\response.py:1935: UserWarning: More than one PolesZerosResponseStage encountered. Returning first one found.\n",
      "  warnings.warn(msg)\n",
      "c:\\Users\\wolfn\\anaconda3\\envs\\PNSN\\lib\\site-packages\\obspy\\core\\inventory\\response.py:1935: UserWarning: More than one PolesZerosResponseStage encountered. Returning first one found.\n",
      "  warnings.warn(msg)\n",
      "c:\\Users\\wolfn\\anaconda3\\envs\\PNSN\\lib\\site-packages\\obspy\\core\\inventory\\response.py:1935: UserWarning: More than one PolesZerosResponseStage encountered. Returning first one found.\n",
      "  warnings.warn(msg)\n"
     ]
    },
    {
     "name": "stdout",
     "output_type": "stream",
     "text": [
      "Source type:  earthquake P/S ratio: 0.0\n",
      "2002-08-03T05:59:24.280000Z\n",
      "Source type:  earthquake P/S ratio: 0.0\n",
      "2002-08-03T05:59:24.280000Z\n",
      "Source type:  earthquake P/S ratio: 0.0\n",
      "2002-08-03T05:59:24.280000Z\n"
     ]
    },
    {
     "name": "stderr",
     "output_type": "stream",
     "text": [
      "c:\\Users\\wolfn\\anaconda3\\envs\\PNSN\\lib\\site-packages\\obspy\\core\\inventory\\response.py:1935: UserWarning: More than one PolesZerosResponseStage encountered. Returning first one found.\n",
      "  warnings.warn(msg)\n",
      "c:\\Users\\wolfn\\anaconda3\\envs\\PNSN\\lib\\site-packages\\obspy\\core\\inventory\\response.py:1935: UserWarning: More than one PolesZerosResponseStage encountered. Returning first one found.\n",
      "  warnings.warn(msg)\n"
     ]
    },
    {
     "name": "stdout",
     "output_type": "stream",
     "text": [
      "Source type:  earthquake P/S ratio: 0.0\n",
      "2002-08-03T05:59:24.280000Z\n",
      "Source type:  earthquake P/S ratio: 0.0\n",
      "2002-07-30T21:19:57.410000Z\n"
     ]
    },
    {
     "name": "stderr",
     "output_type": "stream",
     "text": [
      "c:\\Users\\wolfn\\anaconda3\\envs\\PNSN\\lib\\site-packages\\obspy\\core\\inventory\\response.py:1935: UserWarning: More than one PolesZerosResponseStage encountered. Returning first one found.\n",
      "  warnings.warn(msg)\n"
     ]
    },
    {
     "name": "stdout",
     "output_type": "stream",
     "text": [
      "Source type:  earthquake P/S ratio: 0.0\n",
      "2002-07-22T07:26:44.910000Z\n",
      "Source type:  earthquake P/S ratio: 0.0\n",
      "2002-07-22T07:26:44.910000Z\n"
     ]
    },
    {
     "name": "stderr",
     "output_type": "stream",
     "text": [
      "c:\\Users\\wolfn\\anaconda3\\envs\\PNSN\\lib\\site-packages\\obspy\\core\\inventory\\response.py:1935: UserWarning: More than one PolesZerosResponseStage encountered. Returning first one found.\n",
      "  warnings.warn(msg)\n"
     ]
    },
    {
     "name": "stdout",
     "output_type": "stream",
     "text": [
      "Source type:  earthquake P/S ratio: 0.0\n",
      "2002-07-22T07:26:44.910000Z\n",
      "Source type:  earthquake P/S ratio: 0.0\n",
      "2002-07-19T20:43:10.420000Z\n"
     ]
    },
    {
     "name": "stderr",
     "output_type": "stream",
     "text": [
      "c:\\Users\\wolfn\\anaconda3\\envs\\PNSN\\lib\\site-packages\\obspy\\core\\inventory\\response.py:1935: UserWarning: More than one PolesZerosResponseStage encountered. Returning first one found.\n",
      "  warnings.warn(msg)\n",
      "c:\\Users\\wolfn\\anaconda3\\envs\\PNSN\\lib\\site-packages\\obspy\\core\\inventory\\response.py:1935: UserWarning: More than one PolesZerosResponseStage encountered. Returning first one found.\n",
      "  warnings.warn(msg)\n",
      "c:\\Users\\wolfn\\anaconda3\\envs\\PNSN\\lib\\site-packages\\obspy\\core\\inventory\\response.py:1935: UserWarning: More than one PolesZerosResponseStage encountered. Returning first one found.\n",
      "  warnings.warn(msg)\n"
     ]
    },
    {
     "name": "stdout",
     "output_type": "stream",
     "text": [
      "Source type:  earthquake P/S ratio: 0.0\n",
      "2002-07-16T08:08:58.900000Z\n",
      "Source type:  earthquake P/S ratio: 0.0\n",
      "2002-07-16T08:08:58.900000Z\n",
      "Source type:  earthquake P/S ratio: 0.0\n",
      "2002-07-16T08:08:58.900000Z\n"
     ]
    },
    {
     "name": "stderr",
     "output_type": "stream",
     "text": [
      "c:\\Users\\wolfn\\anaconda3\\envs\\PNSN\\lib\\site-packages\\obspy\\core\\inventory\\response.py:1935: UserWarning: More than one PolesZerosResponseStage encountered. Returning first one found.\n",
      "  warnings.warn(msg)\n"
     ]
    },
    {
     "name": "stdout",
     "output_type": "stream",
     "text": [
      "Source type:  earthquake P/S ratio: 0.0\n",
      "2002-07-14T03:37:59.480000Z\n",
      "Source type:  earthquake P/S ratio: 0.0\n",
      "2002-07-14T03:37:59.480000Z\n",
      "Source type:  earthquake P/S ratio: 0.0\n",
      "2002-07-13T17:57:12.770000Z\n",
      "Source type:  earthquake P/S ratio: 0.0\n",
      "2002-07-13T17:57:12.770000Z\n",
      "Source type:  earthquake P/S ratio: 0.0\n",
      "2002-07-13T17:57:12.770000Z\n"
     ]
    },
    {
     "name": "stderr",
     "output_type": "stream",
     "text": [
      "c:\\Users\\wolfn\\anaconda3\\envs\\PNSN\\lib\\site-packages\\obspy\\core\\inventory\\response.py:1935: UserWarning: More than one PolesZerosResponseStage encountered. Returning first one found.\n",
      "  warnings.warn(msg)\n",
      "c:\\Users\\wolfn\\anaconda3\\envs\\PNSN\\lib\\site-packages\\obspy\\core\\inventory\\response.py:1935: UserWarning: More than one PolesZerosResponseStage encountered. Returning first one found.\n",
      "  warnings.warn(msg)\n",
      "c:\\Users\\wolfn\\anaconda3\\envs\\PNSN\\lib\\site-packages\\obspy\\core\\inventory\\response.py:1935: UserWarning: More than one PolesZerosResponseStage encountered. Returning first one found.\n",
      "  warnings.warn(msg)\n"
     ]
    },
    {
     "name": "stdout",
     "output_type": "stream",
     "text": [
      "Source type:  earthquake P/S ratio: 0.0\n",
      "2002-07-13T17:57:12.770000Z\n",
      "Source type:  earthquake P/S ratio: 0.0\n",
      "2002-07-13T17:57:12.770000Z\n",
      "Source type:  earthquake P/S ratio: 0.0\n",
      "2002-07-11T18:53:40.620000Z\n"
     ]
    },
    {
     "name": "stderr",
     "output_type": "stream",
     "text": [
      "c:\\Users\\wolfn\\anaconda3\\envs\\PNSN\\lib\\site-packages\\obspy\\core\\inventory\\response.py:1935: UserWarning: More than one PolesZerosResponseStage encountered. Returning first one found.\n",
      "  warnings.warn(msg)\n",
      "c:\\Users\\wolfn\\anaconda3\\envs\\PNSN\\lib\\site-packages\\obspy\\core\\inventory\\response.py:1935: UserWarning: More than one PolesZerosResponseStage encountered. Returning first one found.\n",
      "  warnings.warn(msg)\n",
      "c:\\Users\\wolfn\\anaconda3\\envs\\PNSN\\lib\\site-packages\\obspy\\core\\inventory\\response.py:1935: UserWarning: More than one PolesZerosResponseStage encountered. Returning first one found.\n",
      "  warnings.warn(msg)\n"
     ]
    },
    {
     "name": "stdout",
     "output_type": "stream",
     "text": [
      "Source type:  earthquake P/S ratio: 0.0\n",
      "2002-07-11T18:53:40.620000Z\n",
      "Source type:  earthquake P/S ratio: 0.0\n",
      "2002-07-06T09:59:17.380000Z\n",
      "Source type:  earthquake P/S ratio: 0.0\n",
      "2002-07-06T09:59:17.380000Z\n"
     ]
    },
    {
     "name": "stderr",
     "output_type": "stream",
     "text": [
      "c:\\Users\\wolfn\\anaconda3\\envs\\PNSN\\lib\\site-packages\\obspy\\core\\inventory\\response.py:1935: UserWarning: More than one PolesZerosResponseStage encountered. Returning first one found.\n",
      "  warnings.warn(msg)\n",
      "c:\\Users\\wolfn\\anaconda3\\envs\\PNSN\\lib\\site-packages\\obspy\\core\\inventory\\response.py:1935: UserWarning: More than one PolesZerosResponseStage encountered. Returning first one found.\n",
      "  warnings.warn(msg)\n",
      "c:\\Users\\wolfn\\anaconda3\\envs\\PNSN\\lib\\site-packages\\obspy\\core\\inventory\\response.py:1935: UserWarning: More than one PolesZerosResponseStage encountered. Returning first one found.\n",
      "  warnings.warn(msg)\n"
     ]
    },
    {
     "name": "stdout",
     "output_type": "stream",
     "text": [
      "Source type:  earthquake P/S ratio: 0.0\n",
      "2002-07-06T04:27:25.890000Z\n",
      "Source type:  earthquake P/S ratio: 0.0\n",
      "2002-07-06T04:27:25.890000Z\n"
     ]
    },
    {
     "name": "stderr",
     "output_type": "stream",
     "text": [
      "c:\\Users\\wolfn\\anaconda3\\envs\\PNSN\\lib\\site-packages\\obspy\\core\\inventory\\response.py:1935: UserWarning: More than one PolesZerosResponseStage encountered. Returning first one found.\n",
      "  warnings.warn(msg)\n"
     ]
    },
    {
     "name": "stdout",
     "output_type": "stream",
     "text": [
      "Source type:  earthquake P/S ratio: 0.0\n",
      "2002-07-03T12:21:55.660000Z\n",
      "Source type:  earthquake P/S ratio: 0.0\n",
      "2002-07-02T00:36:37.060000Z\n"
     ]
    },
    {
     "name": "stderr",
     "output_type": "stream",
     "text": [
      "c:\\Users\\wolfn\\anaconda3\\envs\\PNSN\\lib\\site-packages\\obspy\\core\\inventory\\response.py:1935: UserWarning: More than one PolesZerosResponseStage encountered. Returning first one found.\n",
      "  warnings.warn(msg)\n",
      "c:\\Users\\wolfn\\anaconda3\\envs\\PNSN\\lib\\site-packages\\obspy\\core\\inventory\\response.py:1935: UserWarning: More than one PolesZerosResponseStage encountered. Returning first one found.\n",
      "  warnings.warn(msg)\n",
      "c:\\Users\\wolfn\\anaconda3\\envs\\PNSN\\lib\\site-packages\\obspy\\core\\inventory\\response.py:1935: UserWarning: More than one PolesZerosResponseStage encountered. Returning first one found.\n",
      "  warnings.warn(msg)\n",
      "c:\\Users\\wolfn\\anaconda3\\envs\\PNSN\\lib\\site-packages\\obspy\\core\\inventory\\response.py:1935: UserWarning: More than one PolesZerosResponseStage encountered. Returning first one found.\n",
      "  warnings.warn(msg)\n"
     ]
    },
    {
     "name": "stdout",
     "output_type": "stream",
     "text": [
      "Source type:  earthquake P/S ratio: 0.0\n",
      "2002-06-30T10:20:00.310000Z\n",
      "Source type:  earthquake P/S ratio: 0.0\n",
      "2002-06-29T19:31:07.350000Z\n",
      "Source type:  earthquake P/S ratio: 0.0\n",
      "2002-06-29T19:31:07.350000Z\n",
      "Source type:  earthquake P/S ratio: 0.0\n",
      "2002-06-29T15:27:02.130000Z\n",
      "Source type:  earthquake P/S ratio: 0.0\n",
      "2002-06-29T14:44:25.750000Z\n",
      "Source type:  earthquake P/S ratio: 0.0\n"
     ]
    },
    {
     "name": "stderr",
     "output_type": "stream",
     "text": [
      "c:\\Users\\wolfn\\anaconda3\\envs\\PNSN\\lib\\site-packages\\obspy\\core\\inventory\\response.py:1935: UserWarning: More than one PolesZerosResponseStage encountered. Returning first one found.\n",
      "  warnings.warn(msg)\n",
      "c:\\Users\\wolfn\\anaconda3\\envs\\PNSN\\lib\\site-packages\\obspy\\core\\inventory\\response.py:1935: UserWarning: More than one PolesZerosResponseStage encountered. Returning first one found.\n",
      "  warnings.warn(msg)\n"
     ]
    },
    {
     "name": "stdout",
     "output_type": "stream",
     "text": [
      "2002-06-19T12:27:17.260000Z\n",
      "Source type:  earthquake P/S ratio: 0.0\n",
      "2002-06-15T15:01:00.430000Z\n"
     ]
    },
    {
     "name": "stderr",
     "output_type": "stream",
     "text": [
      "c:\\Users\\wolfn\\anaconda3\\envs\\PNSN\\lib\\site-packages\\obspy\\core\\inventory\\response.py:1935: UserWarning: More than one PolesZerosResponseStage encountered. Returning first one found.\n",
      "  warnings.warn(msg)\n"
     ]
    },
    {
     "name": "stdout",
     "output_type": "stream",
     "text": [
      "Source type:  earthquake P/S ratio: 0.0\n",
      "2002-06-15T15:01:00.430000Z\n",
      "Source type:  earthquake P/S ratio: 0.0\n",
      "2002-06-15T10:05:40.730000Z\n",
      "Source type:  earthquake P/S ratio: 0.0\n",
      "2002-06-12T08:16:22.370000Z\n"
     ]
    },
    {
     "name": "stderr",
     "output_type": "stream",
     "text": [
      "c:\\Users\\wolfn\\anaconda3\\envs\\PNSN\\lib\\site-packages\\obspy\\core\\inventory\\response.py:1935: UserWarning: More than one PolesZerosResponseStage encountered. Returning first one found.\n",
      "  warnings.warn(msg)\n",
      "c:\\Users\\wolfn\\anaconda3\\envs\\PNSN\\lib\\site-packages\\obspy\\core\\inventory\\response.py:1935: UserWarning: More than one PolesZerosResponseStage encountered. Returning first one found.\n",
      "  warnings.warn(msg)\n",
      "c:\\Users\\wolfn\\anaconda3\\envs\\PNSN\\lib\\site-packages\\obspy\\core\\inventory\\response.py:1935: UserWarning: More than one PolesZerosResponseStage encountered. Returning first one found.\n",
      "  warnings.warn(msg)\n"
     ]
    },
    {
     "name": "stdout",
     "output_type": "stream",
     "text": [
      "Source type:  earthquake P/S ratio: 0.0\n",
      "2002-06-12T08:16:22.370000Z\n",
      "Source type:  earthquake P/S ratio: 0.0\n",
      "2002-06-12T08:16:22.370000Z\n",
      "Source type:  earthquake P/S ratio: 0.0\n",
      "2002-06-06T10:33:42.150000Z\n"
     ]
    },
    {
     "name": "stderr",
     "output_type": "stream",
     "text": [
      "c:\\Users\\wolfn\\anaconda3\\envs\\PNSN\\lib\\site-packages\\obspy\\core\\inventory\\response.py:1935: UserWarning: More than one PolesZerosResponseStage encountered. Returning first one found.\n",
      "  warnings.warn(msg)\n",
      "c:\\Users\\wolfn\\anaconda3\\envs\\PNSN\\lib\\site-packages\\obspy\\core\\inventory\\response.py:1935: UserWarning: More than one PolesZerosResponseStage encountered. Returning first one found.\n",
      "  warnings.warn(msg)\n",
      "c:\\Users\\wolfn\\anaconda3\\envs\\PNSN\\lib\\site-packages\\obspy\\core\\inventory\\response.py:1935: UserWarning: More than one PolesZerosResponseStage encountered. Returning first one found.\n",
      "  warnings.warn(msg)\n"
     ]
    },
    {
     "name": "stdout",
     "output_type": "stream",
     "text": [
      "Source type:  earthquake P/S ratio: 0.0\n",
      "2002-06-06T10:33:42.150000Z\n",
      "Source type:  earthquake P/S ratio: 0.0\n",
      "2002-06-06T10:33:42.150000Z\n"
     ]
    },
    {
     "name": "stderr",
     "output_type": "stream",
     "text": [
      "c:\\Users\\wolfn\\anaconda3\\envs\\PNSN\\lib\\site-packages\\obspy\\core\\inventory\\response.py:1935: UserWarning: More than one PolesZerosResponseStage encountered. Returning first one found.\n",
      "  warnings.warn(msg)\n",
      "c:\\Users\\wolfn\\anaconda3\\envs\\PNSN\\lib\\site-packages\\obspy\\core\\inventory\\response.py:1935: UserWarning: More than one PolesZerosResponseStage encountered. Returning first one found.\n",
      "  warnings.warn(msg)\n",
      "c:\\Users\\wolfn\\anaconda3\\envs\\PNSN\\lib\\site-packages\\obspy\\core\\inventory\\response.py:1935: UserWarning: More than one PolesZerosResponseStage encountered. Returning first one found.\n",
      "  warnings.warn(msg)\n"
     ]
    },
    {
     "name": "stdout",
     "output_type": "stream",
     "text": [
      "Source type:  earthquake P/S ratio: 0.0\n",
      "2002-06-06T10:33:42.150000Z\n",
      "Source type:  earthquake P/S ratio: 0.0\n",
      "2002-06-04T05:45:05.930000Z\n",
      "Source type:  earthquake P/S ratio: 0.0\n",
      "2002-06-04T05:45:05.930000Z\n"
     ]
    },
    {
     "name": "stderr",
     "output_type": "stream",
     "text": [
      "c:\\Users\\wolfn\\anaconda3\\envs\\PNSN\\lib\\site-packages\\obspy\\core\\inventory\\response.py:1935: UserWarning: More than one PolesZerosResponseStage encountered. Returning first one found.\n",
      "  warnings.warn(msg)\n",
      "c:\\Users\\wolfn\\anaconda3\\envs\\PNSN\\lib\\site-packages\\obspy\\core\\inventory\\response.py:1935: UserWarning: More than one PolesZerosResponseStage encountered. Returning first one found.\n",
      "  warnings.warn(msg)\n"
     ]
    },
    {
     "name": "stdout",
     "output_type": "stream",
     "text": [
      "Source type:  earthquake P/S ratio: 0.0\n",
      "2002-06-04T05:45:05.930000Z\n",
      "Source type:  earthquake P/S ratio: 0.0\n",
      "2002-06-04T05:45:05.930000Z\n",
      "Source type:  earthquake P/S ratio: 0.0\n",
      "2002-06-04T05:45:05.930000Z\n"
     ]
    },
    {
     "name": "stderr",
     "output_type": "stream",
     "text": [
      "c:\\Users\\wolfn\\anaconda3\\envs\\PNSN\\lib\\site-packages\\obspy\\core\\inventory\\response.py:1935: UserWarning: More than one PolesZerosResponseStage encountered. Returning first one found.\n",
      "  warnings.warn(msg)\n",
      "c:\\Users\\wolfn\\anaconda3\\envs\\PNSN\\lib\\site-packages\\obspy\\core\\inventory\\response.py:1935: UserWarning: More than one PolesZerosResponseStage encountered. Returning first one found.\n",
      "  warnings.warn(msg)\n"
     ]
    },
    {
     "name": "stdout",
     "output_type": "stream",
     "text": [
      "Source type:  earthquake P/S ratio: 0.0\n",
      "2002-06-04T05:45:05.930000Z\n",
      "Source type:  earthquake P/S ratio: 0.0\n",
      "2002-06-04T05:45:05.930000Z\n"
     ]
    },
    {
     "name": "stderr",
     "output_type": "stream",
     "text": [
      "c:\\Users\\wolfn\\anaconda3\\envs\\PNSN\\lib\\site-packages\\obspy\\core\\inventory\\response.py:1935: UserWarning: More than one PolesZerosResponseStage encountered. Returning first one found.\n",
      "  warnings.warn(msg)\n"
     ]
    },
    {
     "name": "stdout",
     "output_type": "stream",
     "text": [
      "Source type:  earthquake P/S ratio: 0.0\n",
      "2002-06-04T05:45:05.930000Z\n",
      "Source type:  earthquake P/S ratio: 0.0\n",
      "2002-06-03T23:38:57.760000Z\n",
      "Source type:  earthquake P/S ratio: 0.0\n"
     ]
    },
    {
     "name": "stderr",
     "output_type": "stream",
     "text": [
      "c:\\Users\\wolfn\\anaconda3\\envs\\PNSN\\lib\\site-packages\\obspy\\core\\inventory\\response.py:1935: UserWarning: More than one PolesZerosResponseStage encountered. Returning first one found.\n",
      "  warnings.warn(msg)\n",
      "c:\\Users\\wolfn\\anaconda3\\envs\\PNSN\\lib\\site-packages\\obspy\\core\\inventory\\response.py:1935: UserWarning: More than one PolesZerosResponseStage encountered. Returning first one found.\n",
      "  warnings.warn(msg)\n",
      "c:\\Users\\wolfn\\anaconda3\\envs\\PNSN\\lib\\site-packages\\obspy\\core\\inventory\\response.py:1935: UserWarning: More than one PolesZerosResponseStage encountered. Returning first one found.\n",
      "  warnings.warn(msg)\n"
     ]
    },
    {
     "name": "stdout",
     "output_type": "stream",
     "text": [
      "2002-06-03T23:38:57.760000Z\n",
      "Source type:  earthquake P/S ratio: 0.0\n",
      "2002-06-03T22:33:51.440000Z\n",
      "Source type:  earthquake P/S ratio: 0.0\n",
      "2002-06-03T22:33:51.440000Z\n"
     ]
    },
    {
     "name": "stderr",
     "output_type": "stream",
     "text": [
      "c:\\Users\\wolfn\\anaconda3\\envs\\PNSN\\lib\\site-packages\\obspy\\core\\inventory\\response.py:1935: UserWarning: More than one PolesZerosResponseStage encountered. Returning first one found.\n",
      "  warnings.warn(msg)\n",
      "c:\\Users\\wolfn\\anaconda3\\envs\\PNSN\\lib\\site-packages\\obspy\\core\\inventory\\response.py:1935: UserWarning: More than one PolesZerosResponseStage encountered. Returning first one found.\n",
      "  warnings.warn(msg)\n",
      "c:\\Users\\wolfn\\anaconda3\\envs\\PNSN\\lib\\site-packages\\obspy\\core\\inventory\\response.py:1935: UserWarning: More than one PolesZerosResponseStage encountered. Returning first one found.\n",
      "  warnings.warn(msg)\n"
     ]
    },
    {
     "name": "stdout",
     "output_type": "stream",
     "text": [
      "Source type:  earthquake P/S ratio: 0.0\n",
      "2002-06-03T22:33:51.440000Z\n",
      "Source type:  earthquake P/S ratio: 0.0\n",
      "2002-06-03T22:33:51.440000Z\n",
      "Source type:  earthquake P/S ratio: 0.0\n",
      "2002-06-03T00:24:35.580000Z\n"
     ]
    },
    {
     "name": "stderr",
     "output_type": "stream",
     "text": [
      "c:\\Users\\wolfn\\anaconda3\\envs\\PNSN\\lib\\site-packages\\obspy\\core\\inventory\\response.py:1935: UserWarning: More than one PolesZerosResponseStage encountered. Returning first one found.\n",
      "  warnings.warn(msg)\n",
      "c:\\Users\\wolfn\\anaconda3\\envs\\PNSN\\lib\\site-packages\\obspy\\core\\inventory\\response.py:1935: UserWarning: More than one PolesZerosResponseStage encountered. Returning first one found.\n",
      "  warnings.warn(msg)\n"
     ]
    },
    {
     "name": "stdout",
     "output_type": "stream",
     "text": [
      "Source type:  earthquake P/S ratio: 0.0\n",
      "2002-06-03T00:24:35.580000Z\n",
      "Source type:  earthquake P/S ratio: 0.0\n",
      "2002-06-03T00:24:35.580000Z\n",
      "Source type:  earthquake P/S ratio: 0.0\n",
      "2002-05-27T19:32:48.770000Z\n"
     ]
    },
    {
     "name": "stderr",
     "output_type": "stream",
     "text": [
      "c:\\Users\\wolfn\\anaconda3\\envs\\PNSN\\lib\\site-packages\\obspy\\core\\inventory\\response.py:1935: UserWarning: More than one PolesZerosResponseStage encountered. Returning first one found.\n",
      "  warnings.warn(msg)\n",
      "c:\\Users\\wolfn\\anaconda3\\envs\\PNSN\\lib\\site-packages\\obspy\\core\\inventory\\response.py:1935: UserWarning: More than one PolesZerosResponseStage encountered. Returning first one found.\n",
      "  warnings.warn(msg)\n"
     ]
    },
    {
     "name": "stdout",
     "output_type": "stream",
     "text": [
      "Source type:  earthquake P/S ratio: 0.0\n",
      "2002-05-27T19:32:48.770000Z\n",
      "Source type:  earthquake P/S ratio: 0.0\n",
      "2002-05-27T19:32:48.770000Z\n"
     ]
    },
    {
     "name": "stderr",
     "output_type": "stream",
     "text": [
      "c:\\Users\\wolfn\\anaconda3\\envs\\PNSN\\lib\\site-packages\\obspy\\core\\inventory\\response.py:1935: UserWarning: More than one PolesZerosResponseStage encountered. Returning first one found.\n",
      "  warnings.warn(msg)\n",
      "c:\\Users\\wolfn\\anaconda3\\envs\\PNSN\\lib\\site-packages\\obspy\\core\\inventory\\response.py:1935: UserWarning: More than one PolesZerosResponseStage encountered. Returning first one found.\n",
      "  warnings.warn(msg)\n"
     ]
    },
    {
     "name": "stdout",
     "output_type": "stream",
     "text": [
      "Source type:  earthquake P/S ratio: 0.0\n",
      "2002-05-27T19:32:48.770000Z\n",
      "Source type:  earthquake P/S ratio: 0.0\n",
      "2002-05-27T19:32:48.770000Z\n",
      "Source type:  earthquake P/S ratio: 0.0\n",
      "2002-05-27T19:32:48.770000Z\n",
      "Source type:  earthquake P/S ratio: 0.0\n",
      "2002-05-27T08:43:08.610000Z\n",
      "Source type:  earthquake P/S ratio: 0.0\n",
      "2002-05-27T08:43:08.610000Z\n"
     ]
    },
    {
     "name": "stderr",
     "output_type": "stream",
     "text": [
      "c:\\Users\\wolfn\\anaconda3\\envs\\PNSN\\lib\\site-packages\\obspy\\core\\inventory\\response.py:1935: UserWarning: More than one PolesZerosResponseStage encountered. Returning first one found.\n",
      "  warnings.warn(msg)\n",
      "c:\\Users\\wolfn\\anaconda3\\envs\\PNSN\\lib\\site-packages\\obspy\\core\\inventory\\response.py:1935: UserWarning: More than one PolesZerosResponseStage encountered. Returning first one found.\n",
      "  warnings.warn(msg)\n",
      "c:\\Users\\wolfn\\anaconda3\\envs\\PNSN\\lib\\site-packages\\obspy\\core\\inventory\\response.py:1935: UserWarning: More than one PolesZerosResponseStage encountered. Returning first one found.\n",
      "  warnings.warn(msg)\n",
      "c:\\Users\\wolfn\\anaconda3\\envs\\PNSN\\lib\\site-packages\\obspy\\core\\inventory\\response.py:1935: UserWarning: More than one PolesZerosResponseStage encountered. Returning first one found.\n",
      "  warnings.warn(msg)\n"
     ]
    },
    {
     "name": "stdout",
     "output_type": "stream",
     "text": [
      "Source type:  earthquake P/S ratio: 0.0\n",
      "2002-05-27T08:43:08.610000Z\n",
      "Source type:  earthquake P/S ratio: 0.0\n",
      "2002-05-24T22:40:26.310000Z\n",
      "Source type:  earthquake P/S ratio: 0.0\n",
      "2002-05-20T10:43:48.960000Z\n",
      "Source type:  earthquake P/S ratio: 0.0\n"
     ]
    },
    {
     "name": "stderr",
     "output_type": "stream",
     "text": [
      "c:\\Users\\wolfn\\anaconda3\\envs\\PNSN\\lib\\site-packages\\obspy\\core\\inventory\\response.py:1935: UserWarning: More than one PolesZerosResponseStage encountered. Returning first one found.\n",
      "  warnings.warn(msg)\n"
     ]
    }
   ],
   "source": [
    "# Calculate P/S ratio for 15943 explosions\n",
    "ps_ratio = np.zeros(183909)\n",
    "\n",
    "for i in range(200):\n",
    "    # i = 0\n",
    "    # read data, get stream object (tr), p-time (tp), s-time (ts), and dist btwn event and seismogram (dist)\n",
    "    tr, tp, ts, dist = read_data(df, i)\n",
    "    print(tr[0].stats.starttime)\n",
    "    tp1 = UTCDateTime(tr[0].stats.starttime) + tp\n",
    "    ts1 = UTCDateTime(tr[0].stats.starttime) + ts\n",
    "\n",
    "    station = df.iloc[i]['station_code']\n",
    "    if df.iloc[i][\"station_location_code\"] == \"--\":\n",
    "        thissta = df.iloc[i][\"station_network_code\"] + \".\"+ df.iloc[i][\"station_code\"] + \"..\" + df.iloc[i][\"trace_channel\"] + \"Z\"\n",
    "    else:\n",
    "        thissta = df.iloc[i][\"station_network_code\"] + \".\"+ df.iloc[i][\"station_code\"] + \".\"+df.iloc[i][\"station_location_code\"] + \".\" + df.iloc[i][\"trace_channel\"] + \"Z\"\n",
    "\n",
    "\n",
    "    inv0 = client.get_stations(network = df.iloc[i][\"station_network_code\"],\\\n",
    "                            station = df.iloc[i][\"station_code\"],\\\n",
    "                            location = \"*\",\\\n",
    "                            channel = df.iloc[i][\"trace_channel\"] + \"*\",\\\n",
    "                            starttime = UTCDateTime(2002,1,1),\\\n",
    "                            endtime = UTCDateTime(2022,12,1),\\\n",
    "                            level = \"response\")\n",
    "\n",
    "\n",
    "    # remove instrumental response\n",
    "    PAZ = inv0.get_response(thissta, tr[0].stats.starttime).get_paz()\n",
    "    paz_sta = {'gain': PAZ.stage_gain,\n",
    "                'poles': PAZ.poles,\n",
    "                'sensitivity': PAZ.normalization_factor*PAZ.stage_gain,\n",
    "                'zeros': PAZ.zeros}\n",
    "    tr.simulate(paz_remove = paz_sta, water_level = 10)\n",
    "\n",
    "    # filter 1 - 20 hz ??? make sure this is part of our project\n",
    "    tr.filter('bandpass',freqmin = 1,freqmax = 20,corners = 2,zerophase = True)  # will do 1 - 20 **********\n",
    "    # calculate envelope using the obspy function of the vertical component, and then its log\n",
    "    # data_envelope = np.log10(obspy.signal.filter.envelope(tr[2].data))\n",
    "    tr2 = tr[2].copy()\n",
    "    # tr2.data[:] = data_envelope\n",
    "\n",
    "    # Calculate the time where the envelope hits 2 times the noise floor. This is our NOISE VALUE to remove from P and S \n",
    "\n",
    "    noise = tr.copy()\n",
    "    noise.trim(tp1 - 12, tp1 - 2)  \n",
    "    noise_value = np.sum(noise[0].data**2 + noise[1].data**2 + noise[2].data**2)\n",
    "\n",
    "\n",
    "    # Calculate the P-wave values\n",
    "\n",
    "    wave_p = tr.copy()\n",
    "    wave_p.trim(tp1 - 2, tp1 + 8)  \n",
    "    wavep_value = np.sum(wave_p[0].data**2 + wave_p[1].data**2 + wave_p[2].data**2)\n",
    "\n",
    "    # Calculate the S-wave values\n",
    "\n",
    "    wave_s = tr.copy()\n",
    "    wave_s.trim(ts1 - 2, ts1 + 8)  \n",
    "    wave_s_value = np.sum(wave_s[0].data**2 + wave_s[1].data**2 + wave_s[2].data**2)\n",
    "\n",
    "    # Put it all together- Calculate the P/S ratio\n",
    "\n",
    "    ps_ratio[i] = np.sqrt(wavep_value - noise_value) / np.sqrt( wave_s_value - noise_value)\n",
    "    print(\"Source type: \", df['source_type'][i], \"P/S ratio:\", ps_ratio[i])\n",
    "\n",
    "# print(ps_ratio)"
   ]
  },
  {
   "cell_type": "code",
   "execution_count": null,
   "metadata": {},
   "outputs": [],
   "source": [
    "# 3 arrays : ps ratio, eventid, list of unique event id\n",
    "# Take the median of all ps ratios for each uniqe event id\n",
    "df.groupby('event_id')['ps_ratio'].median()\n"
   ]
  }
 ],
 "metadata": {
  "kernelspec": {
   "display_name": "PNSN",
   "language": "python",
   "name": "python3"
  },
  "language_info": {
   "codemirror_mode": {
    "name": "ipython",
    "version": 3
   },
   "file_extension": ".py",
   "mimetype": "text/x-python",
   "name": "python",
   "nbconvert_exporter": "python",
   "pygments_lexer": "ipython3",
   "version": "3.9.16"
  },
  "orig_nbformat": 4
 },
 "nbformat": 4,
 "nbformat_minor": 2
}
